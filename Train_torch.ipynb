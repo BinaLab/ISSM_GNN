{
 "cells": [
  {
   "cell_type": "code",
   "execution_count": 1,
   "id": "96a4f462-5092-4202-a381-828e532bb6c2",
   "metadata": {
    "tags": []
   },
   "outputs": [
    {
     "ename": "ModuleNotFoundError",
     "evalue": "No module named 'torch_cluster'",
     "output_type": "error",
     "traceback": [
      "\u001b[1;31m---------------------------------------------------------------------------\u001b[0m",
      "\u001b[1;31mModuleNotFoundError\u001b[0m                       Traceback (most recent call last)",
      "Cell \u001b[1;32mIn[1], line 45\u001b[0m\n\u001b[0;32m     41\u001b[0m \u001b[38;5;28;01mimport\u001b[39;00m \u001b[38;5;21;01mtorch\u001b[39;00m\u001b[38;5;21;01m.\u001b[39;00m\u001b[38;5;21;01mnn\u001b[39;00m\u001b[38;5;21;01m.\u001b[39;00m\u001b[38;5;21;01mfunctional\u001b[39;00m \u001b[38;5;28;01mas\u001b[39;00m \u001b[38;5;21;01mF\u001b[39;00m\n\u001b[0;32m     43\u001b[0m \u001b[38;5;28;01mimport\u001b[39;00m \u001b[38;5;21;01mtorch\u001b[39;00m\u001b[38;5;21;01m.\u001b[39;00m\u001b[38;5;21;01moptim\u001b[39;00m \u001b[38;5;28;01mas\u001b[39;00m \u001b[38;5;21;01moptim\u001b[39;00m\n\u001b[1;32m---> 45\u001b[0m \u001b[38;5;28;01mfrom\u001b[39;00m \u001b[38;5;21;01mtorch_cluster\u001b[39;00m \u001b[38;5;28;01mimport\u001b[39;00m knn_graph\n\u001b[0;32m     48\u001b[0m \u001b[38;5;28;01mimport\u001b[39;00m \u001b[38;5;21;01mos\u001b[39;00m    \n\u001b[0;32m     49\u001b[0m os\u001b[38;5;241m.\u001b[39menviron[\u001b[38;5;124m'\u001b[39m\u001b[38;5;124mKMP_DUPLICATE_LIB_OK\u001b[39m\u001b[38;5;124m'\u001b[39m] \u001b[38;5;241m=\u001b[39m \u001b[38;5;124m'\u001b[39m\u001b[38;5;124mTrue\u001b[39m\u001b[38;5;124m'\u001b[39m\n",
      "\u001b[1;31mModuleNotFoundError\u001b[0m: No module named 'torch_cluster'"
     ]
    }
   ],
   "source": [
    "### PREDICT ONLY SEA ICE U & V\n",
    "\n",
    "# Ignore warning\n",
    "import warnings\n",
    "warnings.filterwarnings(\"ignore\")\n",
    "\n",
    "import pandas as pd\n",
    "import glob, os\n",
    "import matplotlib.pyplot as plt\n",
    "import numpy as np\n",
    "import geopandas\n",
    "import netCDF4\n",
    "import h5py\n",
    "import datetime as dt\n",
    "import pyproj\n",
    "\n",
    "import tensorflow as tf\n",
    "from tensorflow.keras import datasets, layers, models\n",
    "from keras.layers.convolutional import Conv3D\n",
    "from tqdm import tqdm\n",
    "\n",
    "from pyproj import Proj, transform\n",
    "from shapely.geometry import Polygon\n",
    "import cartopy.crs as ccrs\n",
    "\n",
    "from scipy.interpolate import griddata\n",
    "\n",
    "import cdsapi\n",
    "import xarray as xr\n",
    "from urllib.request import urlopen\n",
    "\n",
    "import pickle\n",
    "\n",
    "from functions import *\n",
    "\n",
    "\n",
    "# check pytorch version\n",
    "import torch\n",
    "    \n",
    "import torch.nn as nn\n",
    "import torch.nn.functional as F\n",
    "\n",
    "import torch.optim as optim\n",
    "\n",
    "from torch_cluster import knn_graph\n",
    "\n",
    "\n",
    "import os    \n",
    "os.environ['KMP_DUPLICATE_LIB_OK'] = 'True'"
   ]
  },
  {
   "cell_type": "code",
   "execution_count": 19,
   "id": "02f930d1-58e2-4277-9f21-317b49897010",
   "metadata": {
    "tags": []
   },
   "outputs": [],
   "source": [
    "################################################################################\n",
    "\n",
    "class custom_loss(nn.Module):\n",
    "    def __init__(self):\n",
    "        super(custom_loss, self).__init__();\n",
    "\n",
    "    def forward(self, obs, prd):\n",
    "        err_u = torch.abs(obs[:, 0, :, :]-prd[:, 0, :, :])\n",
    "        err_v = torch.abs(obs[:, 1, :, :]-prd[:, 1, :, :])\n",
    "        err_sic = torch.abs(obs[:, 2, :, :]-prd[:, 2, :, :])\n",
    "        \n",
    "        err_sum = torch.mean((err_u + err_v) + err_sic)\n",
    "        # err_sum = tf.sqrt(tf.reduce_mean(err_u*err_sic)) + tf.sqrt(tf.reduce_mean(err_v*err_sic))\n",
    "        return err_sum*100\n",
    "    \n",
    "    \n",
    "class physics_loss(nn.Module):\n",
    "    def __init__(self):\n",
    "        super(custom_loss, self).__init__();\n",
    "\n",
    "    def forward(self, obs, prd):\n",
    "        err_u = torch.abs(obs[:, 0, :, :]-prd[:, 0, :, :])\n",
    "        err_v = torch.abs(obs[:, 1, :, :]-prd[:, 1, :, :])\n",
    "        err_sic = torch.abs(obs[:, 2, :, :]-prd[:, 2, :, :])\n",
    "        \n",
    "        err_sum = torch.mean((err_u + err_v) + err_sic)\n",
    "        # err_sum = tf.sqrt(tf.reduce_mean(err_u*err_sic)) + tf.sqrt(tf.reduce_mean(err_v*err_sic))\n",
    "        \n",
    "        u = prd[:, 0, :, :]\n",
    "        v = prd[:, 1, :, :]\n",
    "        d_sic = prd[:, 2, 1:-1, 1:-1]\n",
    "        \n",
    "        dy = prd[:, 1, 2:, 1:-1] - prd[:, 1, :-2, 1:-1]\n",
    "        dx = prd[:, 0, 1:-1, 2:] - prd[:, 0, 1:-1, :-2]\n",
    "        div = dx/50 + dy/50\n",
    "        \n",
    "        # SIC change\n",
    "        err_phy = torch.mean(torch.where((div > 0) & (d_sic > 0), div * err_sic, 0))\n",
    "        # err_phy = torch.mean(torch.where((div > 0) & (d_sic > 0), err_u + err_v + err_sic, 0))\n",
    "        \n",
    "        w = torch.tensor(1.0)\n",
    "        err_sum += w*err_phy\n",
    "        \n",
    "        return err_sum*100\n",
    "    \n",
    "# model definition\n",
    "class MLP(nn.Module):\n",
    "    # define model elements\n",
    "    def __init__(self, n_inputs):\n",
    "        super(MLP, self).__init__()\n",
    "        self.layer = Linear(n_inputs, 1)\n",
    "        self.activation = Sigmoid()\n",
    " \n",
    "    # forward propagate input\n",
    "    def forward(self, X):\n",
    "        X = self.layer(X)\n",
    "        X = self.activation(X)\n",
    "        return X\n",
    "\n",
    "\n",
    "class Net(nn.Module):\n",
    "    def __init__(self):\n",
    "        super().__init__()\n",
    "        self.conv1 = nn.Conv2d(6, 16, 5, padding = \"same\")\n",
    "        self.conv2 = nn.Conv2d(16, 16, 5, padding = \"same\")\n",
    "        self.conv3 = nn.Conv2d(16, 16, 5, padding = \"same\")\n",
    "        self.conv4 = nn.Conv2d(16, 16, 5, padding = \"same\")\n",
    "        self.conv5 = nn.Conv2d(16, 16, 5, padding = \"same\")\n",
    "        self.conv6 = nn.Conv2d(16, 16, 5, padding = \"same\")\n",
    "        self.conv7 = nn.Conv2d(16, 16, 5, padding = \"same\")\n",
    "        self.conv8 = nn.Conv2d(16, 3, 5, padding = \"same\")\n",
    "\n",
    "    def forward(self, x):\n",
    "        x = F.leaky_relu(self.conv1(x), negative_slope=1)\n",
    "        x = F.leaky_relu(self.conv2(x), negative_slope=1)\n",
    "        x = F.leaky_relu(self.conv3(x), negative_slope=1)\n",
    "        x = F.leaky_relu(self.conv4(x), negative_slope=1)\n",
    "        x = F.leaky_relu(self.conv5(x), negative_slope=1)\n",
    "        x = F.leaky_relu(self.conv6(x), negative_slope=1)\n",
    "        x = F.leaky_relu(self.conv7(x), negative_slope=1)\n",
    "        x = F.leaky_relu(self.conv8(x), negative_slope=1)\n",
    "        \n",
    "        # x = F.linear(self.conv1(x), weight = torch.flatten(torch.ones(x.size())))\n",
    "        # x = F.linear(self.conv2(x), weight = torch.flatten(torch.ones(x.size())))\n",
    "        # x = F.linear(self.conv3(x), weight = torch.flatten(torch.ones(x.size())))\n",
    "        # x = F.linear(self.conv4(x), weight = torch.flatten(torch.ones(x.size())))\n",
    "        # x = F.linear(self.conv5(x), weight = torch.flatten(torch.ones(x.size())))\n",
    "        # x = F.linear(self.conv6(x), weight = torch.flatten(torch.ones(x.size())))\n",
    "        # x = F.linear(self.conv7(x), weight = torch.flatten(torch.ones(x.size())))\n",
    "        # x = F.linear(self.conv8(x), weight = torch.flatten(torch.ones(x.size())))\n",
    "        \n",
    "        return x\n",
    "    \n",
    "##########################################################################################3\n",
    "\n"
   ]
  },
  {
   "cell_type": "code",
   "execution_count": 11,
   "id": "548497f3-7ec2-4f6a-8946-d533d669a4c9",
   "metadata": {
    "tags": []
   },
   "outputs": [
    {
     "data": {
      "text/plain": [
       "tensor([1., 1., 1.,  ..., 1., 1., 1.])"
      ]
     },
     "execution_count": 11,
     "metadata": {},
     "output_type": "execute_result"
    }
   ],
   "source": [
    "torch.ones(2220)"
   ]
  },
  {
   "cell_type": "code",
   "execution_count": 9,
   "id": "9f7a2ad0-62d2-4fae-b886-dfe74581ed7c",
   "metadata": {
    "tags": []
   },
   "outputs": [
    {
     "name": "stdout",
     "output_type": "stream",
     "text": [
      "######## TRAINING DATA IS PREPARED (# of samples: 1093) ########\n",
      "(1093, 6, 361, 361) (1093, 3, 361, 361)\n",
      "(539, 6, 320, 320) (539, 3, 320, 320) (190, 6, 320, 320) (190, 3, 320, 320) (364, 6, 320, 320) (364, 3, 320, 320)\n"
     ]
    }
   ],
   "source": [
    "data_path = \"D:\\\\PINN\\\\data\"\n",
    "\n",
    "with open(data_path + '/train_cnn_2019_2021.pkl', 'rb') as file:\n",
    "    xx, yy, days, months, years, cnn_input, cnn_output = pickle.load(file)\n",
    "    \n",
    "print(\"######## TRAINING DATA IS PREPARED (# of samples: {0}) ########\".format(len(days)))\n",
    "\n",
    "cnn_input = np.transpose(cnn_input, (0, 3, 1, 2))\n",
    "cnn_output = np.transpose(cnn_output, (0, 3, 1, 2))\n",
    "\n",
    "print(np.shape(cnn_input), np.shape(cnn_output))\n",
    "\n",
    "date = 2019\n",
    "\n",
    "mask1 = (years == date) # Test samples\n",
    "mask2 = (days % 4 == 2) # Validation samples\n",
    "\n",
    "test_input = cnn_input[mask1, :, 41:, :-41]\n",
    "test_output = cnn_output[mask1, :, 41:, :-41]\n",
    "val_input = cnn_input[(~mask1)&(mask2), :, 41:, :-41]\n",
    "val_output = cnn_output[(~mask1)&(mask2), :, 41:, :-41]\n",
    "train_input = cnn_input[(~mask1)&(~mask2), :, 41:, :-41]\n",
    "train_output = cnn_output[(~mask1)&(~mask2), :, 41:, :-41]\n",
    "\n",
    "del mask1, mask2\n",
    "\n",
    "print(np.shape(train_input), np.shape(train_output), np.shape(val_input), np.shape(val_output), np.shape(test_input), np.shape(test_output))\n",
    "\n",
    "train_input = torch.tensor(train_input, dtype=torch.float32)\n",
    "train_output = torch.tensor(train_output, dtype=torch.float32)\n",
    "val_input = torch.tensor(val_input, dtype=torch.float32)\n",
    "val_output = torch.tensor(val_output, dtype=torch.float32)\n",
    "test_input = torch.tensor(test_input, dtype=torch.float32)\n",
    "test_output = torch.tensor(test_output, dtype=torch.float32)\n",
    "\n",
    "n_samples, row, col, in_channels = np.shape(train_input)\n",
    "_, _, _, out_channels = np.shape(train_output)\n"
   ]
  },
  {
   "cell_type": "code",
   "execution_count": 6,
   "id": "13b3f8fb-2103-4765-98fc-0201c2a9dbf0",
   "metadata": {
    "tags": []
   },
   "outputs": [
    {
     "data": {
      "image/png": "[encoded data removed]",
      "text/plain": [
       "<Figure size 640x480 with 2 Axes>"
      ]
     },
     "metadata": {},
     "output_type": "display_data"
    }
   ],
   "source": [
    "a = train_input[0, 0, :, :];\n",
    "plt.imshow(a);\n",
    "plt.colorbar();"
   ]
  },
  {
   "cell_type": "code",
   "execution_count": null,
   "id": "06f0a0d4-1856-4a65-a30f-b0b5a30a1c95",
   "metadata": {},
   "outputs": [
    {
     "data": {
      "text/plain": [
       "1"
      ]
     },
     "execution_count": 73,
     "metadata": {},
     "output_type": "execute_result"
    }
   ],
   "source": [
    "torch.cuda.device_count()"
   ]
  },
  {
   "cell_type": "code",
   "execution_count": 20,
   "id": "47dafacc-83be-44db-9d01-28208fc11acb",
   "metadata": {
    "tags": []
   },
   "outputs": [
    {
     "name": "stdout",
     "output_type": "stream",
     "text": [
      "cpu\n",
      "Number of parameters: 42115\n"
     ]
    },
    {
     "name": "stderr",
     "output_type": "stream",
     "text": [
      "Epoch 0: 100%|███████████████████████████████████████████████████████████| 17/17 [00:35<00:00,  2.09s/batch, loss=31.7]\n",
      "Epoch 1:  12%|███████                                                     | 2/17 [00:07<00:58,  3.87s/batch, loss=35.9]\n",
      "\n",
      "KeyboardInterrupt\n",
      "\n"
     ]
    }
   ],
   "source": [
    "\n",
    "net = Net()\n",
    "\n",
    "device = 'cpu' #torch.device('cuda:0' if torch.cuda.is_available() else 'cpu')\n",
    "\n",
    "print(device)\n",
    "net.to(device)\n",
    "\n",
    "loss_fn = nn.L1Loss() #custom_loss() # nn.L1Loss() #nn.CrossEntropyLoss()\n",
    "optimizer = optim.Adam(net.parameters(), lr=0.01)\n",
    "\n",
    "n_epochs = 3\n",
    "batch_size = 32  # size of each batch\n",
    "batch_start = torch.arange(0, len(train_input), batch_size)\n",
    "\n",
    "history = {'loss': [], 'val_loss': []}\n",
    "\n",
    "total_params = sum(p.numel() for p in net.parameters())\n",
    "print(f\"Number of parameters: {total_params}\")\n",
    "\n",
    "for epoch in range(n_epochs):\n",
    "    net.train()\n",
    "    with tqdm(batch_start, unit=\"batch\", mininterval=0, disable=False) as bar:\n",
    "        bar.set_description(f\"Epoch {epoch}\")\n",
    "        for start in bar:\n",
    "            # take a batch\n",
    "            X_batch = train_input[start:start+batch_size].to(device)\n",
    "            y_batch = train_output[start:start+batch_size].to(device)\n",
    "            # backward pass\n",
    "            optimizer.zero_grad()\n",
    "            # forward pass\n",
    "            y_pred = net(X_batch)\n",
    "            loss = loss_fn(y_pred, y_batch)\n",
    "            loss.backward()\n",
    "            # update weights\n",
    "            optimizer.step()\n",
    "            # print progress\n",
    "            bar.set_postfix(loss=float(loss))\n",
    "    net.eval()\n",
    "    val_pred = net(val_input.to(device))\n",
    "    val_loss = loss_fn(val_pred, val_output)\n",
    "    history['loss'].append(loss.item())\n",
    "    history['val_loss'].append(val_loss.item())\n",
    "\n",
    "\n",
    "\n",
    "\n",
    "# for epoch in range(2):  # loop over the dataset multiple times\n",
    "\n",
    "#     running_loss = 0.0\n",
    "#     for i, data in enumerate(np.arange(0, n_samples), 0):\n",
    "#         # get the inputs; data is a list of [inputs, labels]\n",
    "#         inputs = train_input[i, :, :, :]\n",
    "\n",
    "#         # zero the parameter gradients\n",
    "#         optimizer.zero_grad()\n",
    "\n",
    "#         # forward + backward + optimize\n",
    "#         outputs = net(inputs)\n",
    "#         loss = loss_fn(outputs, train_output[i, :, :, :])\n",
    "#         loss.backward()\n",
    "#         optimizer.step()\n",
    "\n",
    "#         # print statistics\n",
    "#         running_loss += loss.item()\n",
    "#         if i % 50 == 49:    # print every 2000 mini-batches\n",
    "#             print(f'[{epoch + 1}, {i + 1:5d}] loss: {running_loss:.3f}')\n",
    "#             running_loss = 0.0\n",
    "            \n",
    "#     net.eval()\n",
    "#     train_pred = net(train_input)\n",
    "#     loss_train = loss_fn(train_pred, train_output)\n",
    "#     val_pred = net(val_input)\n",
    "#     loss_val = loss_fn(val_pred, val_output)\n",
    "#     history.append(mse)\n",
    "\n",
    "# print('Finished Training')"
   ]
  },
  {
   "cell_type": "code",
   "execution_count": 16,
   "id": "5ef806e8-ad7e-4e08-9601-43ba430c73a5",
   "metadata": {
    "tags": []
   },
   "outputs": [
    {
     "data": {
      "text/plain": [
       "tensor([1., 1., 1.,  ..., 1., 1., 1.])"
      ]
     },
     "execution_count": 16,
     "metadata": {},
     "output_type": "execute_result"
    }
   ],
   "source": [
    "torch.flatten(torch.ones(test_input.size()))"
   ]
  },
  {
   "cell_type": "code",
   "execution_count": 23,
   "id": "38402887-3c3d-41c7-8caa-8169af4782c0",
   "metadata": {
    "tags": []
   },
   "outputs": [
    {
     "data": {
      "text/plain": [
       "[<matplotlib.lines.Line2D at 0x1d290b8c0d0>]"
      ]
     },
     "execution_count": 23,
     "metadata": {},
     "output_type": "execute_result"
    },
    {
     "data": {
      "image/png": "[encoded data removed]",
      "text/plain": [
       "<Figure size 640x480 with 1 Axes>"
      ]
     },
     "metadata": {},
     "output_type": "display_data"
    }
   ],
   "source": [
    "a = [0.009360519237816334, 0.009357145987451077, 0.009360144846141338]\n",
    "b = [0.008397781290113926, 0.008394971489906311, 0.008397048339247704]\n",
    "plt.plot(a)\n",
    "plt.plot(b)"
   ]
  },
  {
   "cell_type": "code",
   "execution_count": 156,
   "id": "36ae2b14-8605-4ba0-a916-2b804ca25936",
   "metadata": {
    "tags": []
   },
   "outputs": [
    {
     "data": {
      "text/plain": [
       "<matplotlib.image.AxesImage at 0x1711607b820>"
      ]
     },
     "execution_count": 156,
     "metadata": {},
     "output_type": "execute_result"
    },
    {
     "data": {
      "image/png": "[encoded data removed]",
      "text/plain": [
       "<Figure size 640x480 with 1 Axes>"
      ]
     },
     "metadata": {},
     "output_type": "display_data"
    }
   ],
   "source": [
    "plt.imshow(val_pred[0, 0].detach().numpy())"
   ]
  },
  {
   "cell_type": "code",
   "execution_count": 38,
   "id": "59cf7990-e498-43ce-9198-7f362ce9f5f4",
   "metadata": {
    "tags": []
   },
   "outputs": [],
   "source": [
    "torch.save(net.state_dict(), '../model/torch_net.pth')"
   ]
  },
  {
   "cell_type": "code",
   "execution_count": 46,
   "id": "723f3816-eab0-4d2b-b33d-3f7534fc8ccf",
   "metadata": {
    "tags": []
   },
   "outputs": [
    {
     "data": {
      "text/plain": [
       "0"
      ]
     },
     "execution_count": 46,
     "metadata": {},
     "output_type": "execute_result"
    }
   ],
   "source": [
    "device = torch.device('cuda:0' if torch.cuda.is_available() else 'cpu')\n",
    "torch.cuda.memory_allocated(device)"
   ]
  },
  {
   "cell_type": "code",
   "execution_count": 2,
   "id": "37f3eea5-7bdf-4fba-bea0-5bc27f67aa50",
   "metadata": {
    "tags": []
   },
   "outputs": [
    {
     "ename": "NameError",
     "evalue": "name 'Net' is not defined",
     "output_type": "error",
     "traceback": [
      "\u001b[1;31m---------------------------------------------------------------------------\u001b[0m",
      "\u001b[1;31mNameError\u001b[0m                                 Traceback (most recent call last)",
      "Cell \u001b[1;32mIn[2], line 1\u001b[0m\n\u001b[1;32m----> 1\u001b[0m model \u001b[38;5;241m=\u001b[39m \u001b[43mNet\u001b[49m()\n\u001b[0;32m      2\u001b[0m model\u001b[38;5;241m.\u001b[39mload_state_dict(torch\u001b[38;5;241m.\u001b[39mload(\u001b[38;5;124m'\u001b[39m\u001b[38;5;124m../model/torch_net.pth\u001b[39m\u001b[38;5;124m'\u001b[39m))\n\u001b[0;32m      3\u001b[0m model\u001b[38;5;241m.\u001b[39meval()\n",
      "\u001b[1;31mNameError\u001b[0m: name 'Net' is not defined"
     ]
    }
   ],
   "source": [
    "model = Net()\n",
    "model.load_state_dict(torch.load('../model/torch_net.pth'))\n",
    "model.eval()"
   ]
  },
  {
   "cell_type": "code",
   "execution_count": 1,
   "id": "a0053b88-0832-4f4d-8707-4c4e8676adf4",
   "metadata": {
    "tags": []
   },
   "outputs": [
    {
     "ename": "NameError",
     "evalue": "name 'model' is not defined",
     "output_type": "error",
     "traceback": [
      "\u001b[1;31m---------------------------------------------------------------------------\u001b[0m",
      "\u001b[1;31mNameError\u001b[0m                                 Traceback (most recent call last)",
      "Cell \u001b[1;32mIn[1], line 1\u001b[0m\n\u001b[1;32m----> 1\u001b[0m \u001b[43mmodel\u001b[49m\u001b[38;5;241m.\u001b[39mconv1\n",
      "\u001b[1;31mNameError\u001b[0m: name 'model' is not defined"
     ]
    }
   ],
   "source": [
    "model.conv1"
   ]
  },
  {
   "cell_type": "code",
   "execution_count": 44,
   "id": "26df42ee-2618-4307-abb8-2b4654f2501c",
   "metadata": {
    "tags": []
   },
   "outputs": [
    {
     "data": {
      "text/plain": [
       "device(type='cuda', index=0)"
      ]
     },
     "execution_count": 44,
     "metadata": {},
     "output_type": "execute_result"
    }
   ],
   "source": [
    "torch.device('cuda:0' if torch.cuda.is_available() else 'cpu')"
   ]
  },
  {
   "cell_type": "code",
   "execution_count": 36,
   "id": "82e47ab8-f1a3-4e9d-b26b-3a27ab5e3a8f",
   "metadata": {
    "tags": []
   },
   "outputs": [
    {
     "ename": "PicklingError",
     "evalue": "Can't pickle <class '__main__.Net'>: it's not the same object as __main__.Net",
     "output_type": "error",
     "traceback": [
      "\u001b[1;31m---------------------------------------------------------------------------\u001b[0m",
      "\u001b[1;31mPicklingError\u001b[0m                             Traceback (most recent call last)",
      "Cell \u001b[1;32mIn[36], line 2\u001b[0m\n\u001b[0;32m      1\u001b[0m model_name \u001b[38;5;241m=\u001b[39m \u001b[38;5;124mf\u001b[39m\u001b[38;5;124m\"\u001b[39m\u001b[38;5;124mtorch_conv2d_lr\u001b[39m\u001b[38;5;132;01m{\u001b[39;00m\u001b[38;5;241m0.01\u001b[39m\u001b[38;5;132;01m}\u001b[39;00m\u001b[38;5;124m_wo\u001b[39m\u001b[38;5;132;01m{\u001b[39;00mdate\u001b[38;5;132;01m}\u001b[39;00m\u001b[38;5;124m_nophy.pth\u001b[39m\u001b[38;5;124m\"\u001b[39m\n\u001b[1;32m----> 2\u001b[0m \u001b[43mtorch\u001b[49m\u001b[38;5;241;43m.\u001b[39;49m\u001b[43msave\u001b[49m\u001b[43m(\u001b[49m\u001b[43mnet\u001b[49m\u001b[43m,\u001b[49m\u001b[43m \u001b[49m\u001b[43mmodel_name\u001b[49m\u001b[43m)\u001b[49m\n",
      "File \u001b[1;32m~\\anaconda3\\envs\\mygpu\\lib\\site-packages\\torch\\serialization.py:441\u001b[0m, in \u001b[0;36msave\u001b[1;34m(obj, f, pickle_module, pickle_protocol, _use_new_zipfile_serialization)\u001b[0m\n\u001b[0;32m    439\u001b[0m \u001b[38;5;28;01mif\u001b[39;00m _use_new_zipfile_serialization:\n\u001b[0;32m    440\u001b[0m     \u001b[38;5;28;01mwith\u001b[39;00m _open_zipfile_writer(f) \u001b[38;5;28;01mas\u001b[39;00m opened_zipfile:\n\u001b[1;32m--> 441\u001b[0m         \u001b[43m_save\u001b[49m\u001b[43m(\u001b[49m\u001b[43mobj\u001b[49m\u001b[43m,\u001b[49m\u001b[43m \u001b[49m\u001b[43mopened_zipfile\u001b[49m\u001b[43m,\u001b[49m\u001b[43m \u001b[49m\u001b[43mpickle_module\u001b[49m\u001b[43m,\u001b[49m\u001b[43m \u001b[49m\u001b[43mpickle_protocol\u001b[49m\u001b[43m)\u001b[49m\n\u001b[0;32m    442\u001b[0m         \u001b[38;5;28;01mreturn\u001b[39;00m\n\u001b[0;32m    443\u001b[0m \u001b[38;5;28;01melse\u001b[39;00m:\n",
      "File \u001b[1;32m~\\anaconda3\\envs\\mygpu\\lib\\site-packages\\torch\\serialization.py:653\u001b[0m, in \u001b[0;36m_save\u001b[1;34m(obj, zip_file, pickle_module, pickle_protocol)\u001b[0m\n\u001b[0;32m    651\u001b[0m pickler \u001b[38;5;241m=\u001b[39m pickle_module\u001b[38;5;241m.\u001b[39mPickler(data_buf, protocol\u001b[38;5;241m=\u001b[39mpickle_protocol)\n\u001b[0;32m    652\u001b[0m pickler\u001b[38;5;241m.\u001b[39mpersistent_id \u001b[38;5;241m=\u001b[39m persistent_id\n\u001b[1;32m--> 653\u001b[0m \u001b[43mpickler\u001b[49m\u001b[38;5;241;43m.\u001b[39;49m\u001b[43mdump\u001b[49m\u001b[43m(\u001b[49m\u001b[43mobj\u001b[49m\u001b[43m)\u001b[49m\n\u001b[0;32m    654\u001b[0m data_value \u001b[38;5;241m=\u001b[39m data_buf\u001b[38;5;241m.\u001b[39mgetvalue()\n\u001b[0;32m    655\u001b[0m zip_file\u001b[38;5;241m.\u001b[39mwrite_record(\u001b[38;5;124m'\u001b[39m\u001b[38;5;124mdata.pkl\u001b[39m\u001b[38;5;124m'\u001b[39m, data_value, \u001b[38;5;28mlen\u001b[39m(data_value))\n",
      "\u001b[1;31mPicklingError\u001b[0m: Can't pickle <class '__main__.Net'>: it's not the same object as __main__.Net"
     ]
    }
   ],
   "source": [
    "model_name = f\"torch_conv2d_lr{0.01}_wo{date}_nophy.pth\"\n",
    "torch.save(net, model_name)"
   ]
  },
  {
   "cell_type": "code",
   "execution_count": 150,
   "id": "3e234d13-e847-4e20-a988-02151919298a",
   "metadata": {
    "tags": []
   },
   "outputs": [
    {
     "data": {
      "text/plain": [
       "[<matplotlib.lines.Line2D at 0x171160bec80>]"
      ]
     },
     "execution_count": 150,
     "metadata": {},
     "output_type": "execute_result"
    },
    {
     "data": {
      "image/png": "[encoded data removed]",
      "text/plain": [
       "<Figure size 640x480 with 1 Axes>"
      ]
     },
     "metadata": {},
     "output_type": "display_data"
    }
   ],
   "source": [
    "plt.plot(history['loss'])\n",
    "plt.plot(history['val_loss'])"
   ]
  },
  {
   "cell_type": "code",
   "execution_count": 48,
   "id": "e885fc21-09c6-47e0-bccc-bdb0334912d6",
   "metadata": {
    "tags": []
   },
   "outputs": [
    {
     "data": {
      "text/plain": [
       "tensor(0.0074, grad_fn=<MeanBackward0>)"
      ]
     },
     "execution_count": 48,
     "metadata": {},
     "output_type": "execute_result"
    }
   ],
   "source": [
    "criterion(outputs, test_output)"
   ]
  },
  {
   "cell_type": "code",
   "execution_count": 40,
   "id": "26950763-365c-45cb-803c-b804b3e94f11",
   "metadata": {
    "tags": []
   },
   "outputs": [],
   "source": [
    "outputs = outputs.detach().numpy()"
   ]
  },
  {
   "cell_type": "code",
   "execution_count": 56,
   "id": "fff5e0d7-8478-46da-a20d-5c0d71782e26",
   "metadata": {
    "tags": []
   },
   "outputs": [
    {
     "ename": "IndexError",
     "evalue": "too many indices for tensor of dimension 3",
     "output_type": "error",
     "traceback": [
      "\u001b[1;31m---------------------------------------------------------------------------\u001b[0m",
      "\u001b[1;31mIndexError\u001b[0m                                Traceback (most recent call last)",
      "Cell \u001b[1;32mIn[56], line 1\u001b[0m\n\u001b[1;32m----> 1\u001b[0m plt\u001b[38;5;241m.\u001b[39mimshow(\u001b[43moutputs\u001b[49m\u001b[43m[\u001b[49m\u001b[38;5;241;43m100\u001b[39;49m\u001b[43m,\u001b[49m\u001b[43m \u001b[49m\u001b[38;5;241;43m2\u001b[39;49m\u001b[43m,\u001b[49m\u001b[43m \u001b[49m\u001b[43m:\u001b[49m\u001b[43m,\u001b[49m\u001b[43m \u001b[49m\u001b[43m:\u001b[49m\u001b[43m]\u001b[49m)\n",
      "\u001b[1;31mIndexError\u001b[0m: too many indices for tensor of dimension 3"
     ]
    }
   ],
   "source": [
    "plt.imshow(outputs[100, 2, :, :])"
   ]
  },
  {
   "cell_type": "code",
   "execution_count": 20,
   "id": "f1ef8c43-2a47-4a74-93b8-4b662cead0a4",
   "metadata": {
    "tags": []
   },
   "outputs": [
    {
     "name": "stdout",
     "output_type": "stream",
     "text": [
      "cuda:0\n"
     ]
    }
   ],
   "source": [
    "device = torch.device('cuda:0' if torch.cuda.is_available() else 'cpu')\n",
    "\n",
    "# Assuming that we are on a CUDA machine, this should print a CUDA device:\n",
    "\n",
    "print(device)"
   ]
  }
 ],
 "metadata": {
  "kernelspec": {
   "display_name": "Python 3 (ipykernel)",
   "language": "python",
   "name": "python3"
  },
  "language_info": {
   "codemirror_mode": {
    "name": "ipython",
    "version": 3
   },
   "file_extension": ".py",
   "mimetype": "text/x-python",
   "name": "python",
   "nbconvert_exporter": "python",
   "pygments_lexer": "ipython3",
   "version": "3.10.11"
  }
 },
 "nbformat": 4,
 "nbformat_minor": 5
}
